{
 "cells": [
  {
   "cell_type": "code",
   "execution_count": 8,
   "id": "964ff6b6-869d-497d-ad5c-f0c6ff33505e",
   "metadata": {},
   "outputs": [],
   "source": [
    "import cv2\n",
    "import os\n",
    "import glob\n",
    "import numpy as np\n",
    "import pandas as pd\n",
    "import json\n",
    "\n",
    "def txt_to_image(txt_path, image_path, save_image_path):\n",
    "    # 第1個參數為txt檔案的路徑\n",
    "    # 第2個參數為原始圖片的路徑，原因是有時候預測出的結果可能會\n",
    "    # 因為缺值或是沒有預測出label而導致txt檔案的缺失，所以補上一張黑底的圖片，\n",
    "    # 以保證算分數時，預測圖片可以對上答案圖片的個數\n",
    "    # 第3個參數為要儲存圖片的路徑\n",
    "    \n",
    "    txt_path = txt_path+'*.txt'  #txt\\\\ 要改成自己的檔案路徑\n",
    "    txt = glob.glob(txt_path)\n",
    "    image_path = image_path+'*.jpg'\n",
    "    image = glob.glob(image_path)\n",
    "    width = 640\n",
    "    height = 360\n",
    "\n",
    "    save_path = save_image_path\n",
    "    \n",
    "    for j in range(len(image)):\n",
    "        img = image[j].split(\"\\\\\")\n",
    "        image_name = img[1][:-4]\n",
    "\n",
    "        k = 0\n",
    "        for i in range(len(txt)):\n",
    "            t = txt[i].split(\"\\\\\")\n",
    "            save = t[1][:-4]\n",
    "            # 製作黑色底圖\n",
    "            img = np.zeros((360,640,3), np.uint8)\n",
    "            if image_name == save :\n",
    "                data = pd.read_table(txt[i],header=None,encoding='utf-8',engine =\"python\"\n",
    "                                     ,sep='::')\n",
    "\n",
    "                for j in range(len(data)):\n",
    "                    data_np = data.to_numpy()\n",
    "                    temp = data_np[j].tolist()\n",
    "                    t = temp[0].split(\" \")\n",
    "\n",
    "                    if t[0] == '0':\n",
    "                        color = (0,0,255)\n",
    "                    else:\n",
    "                        color = (0,255,0)\n",
    "\n",
    "                    cx = int(float(t[1])*640)\n",
    "                    cy = int(float(t[2])*360)\n",
    "                    w  = int(float(t[3])*640)\n",
    "                    h  = int(float(t[4])*360)\n",
    "                    left_up = ((cx-w//2),(cy-h//2))\n",
    "                    right_down = ((cx+w//2),(cy+h//2))\n",
    "                    img = cv2.rectangle(img, left_up, right_down, color, -1)\n",
    "\n",
    "                # 寫入圖檔\n",
    "                cv2.imwrite(save_path+save+\".jpg\", img)\n",
    "            else:\n",
    "                k+=1\n",
    "        if k ==len(txt):\n",
    "            cv2.imwrite(save_path+image_name+\".jpg\",img)"
   ]
  },
  {
   "cell_type": "code",
   "execution_count": 9,
   "id": "47418a60",
   "metadata": {},
   "outputs": [],
   "source": [
    "txt_path='./TrainingData/labels/labels/'\n",
    "image_path='./TrainingData/images/images/' \n",
    "save_image_path='./TrainingData/labels/label_image/'\n",
    "txt_to_image(txt_path, image_path, save_image_path)"
   ]
  },
  {
   "cell_type": "code",
   "execution_count": null,
   "id": "70b13848",
   "metadata": {},
   "outputs": [],
   "source": []
  }
 ],
 "metadata": {
  "kernelspec": {
   "display_name": "Python 3 (ipykernel)",
   "language": "python",
   "name": "python3"
  },
  "language_info": {
   "codemirror_mode": {
    "name": "ipython",
    "version": 3
   },
   "file_extension": ".py",
   "mimetype": "text/x-python",
   "name": "python",
   "nbconvert_exporter": "python",
   "pygments_lexer": "ipython3",
   "version": "3.9.15"
  }
 },
 "nbformat": 4,
 "nbformat_minor": 5
}
